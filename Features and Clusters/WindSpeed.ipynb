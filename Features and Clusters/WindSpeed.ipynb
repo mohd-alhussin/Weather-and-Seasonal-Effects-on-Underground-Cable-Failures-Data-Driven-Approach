{
 "cells": [
  {
   "cell_type": "code",
   "execution_count": 1,
   "id": "b391aa1b",
   "metadata": {},
   "outputs": [],
   "source": [
    "%matplotlib inline\n",
    "import matplotlib.pyplot as plt\n",
    "import seaborn as sns; sns.set()\n",
    "import numpy as np\n",
    "import pandas as pd"
   ]
  },
  {
   "cell_type": "code",
   "execution_count": 2,
   "id": "b698fe44",
   "metadata": {},
   "outputs": [],
   "source": [
    "df = pd.read_csv(r'../Data/DailyFailureWeather.csv')"
   ]
  },
  {
   "cell_type": "code",
   "execution_count": 3,
   "id": "66bc5607",
   "metadata": {},
   "outputs": [
    {
     "data": {
      "text/html": [
       "<div>\n",
       "<style scoped>\n",
       "    .dataframe tbody tr th:only-of-type {\n",
       "        vertical-align: middle;\n",
       "    }\n",
       "\n",
       "    .dataframe tbody tr th {\n",
       "        vertical-align: top;\n",
       "    }\n",
       "\n",
       "    .dataframe thead th {\n",
       "        text-align: right;\n",
       "    }\n",
       "</style>\n",
       "<table border=\"1\" class=\"dataframe\">\n",
       "  <thead>\n",
       "    <tr style=\"text-align: right;\">\n",
       "      <th></th>\n",
       "      <th>Date</th>\n",
       "      <th>Failure.Rate</th>\n",
       "      <th>Temp</th>\n",
       "      <th>Cloud</th>\n",
       "      <th>Disc</th>\n",
       "      <th>Humidity</th>\n",
       "      <th>MaxTemp</th>\n",
       "      <th>MinTemp</th>\n",
       "      <th>Pressure</th>\n",
       "      <th>Rain</th>\n",
       "      <th>WindDir</th>\n",
       "      <th>WindSpeed</th>\n",
       "      <th>Unnamed: 12</th>\n",
       "    </tr>\n",
       "  </thead>\n",
       "  <tbody>\n",
       "    <tr>\n",
       "      <th>0</th>\n",
       "      <td>1/1/2016</td>\n",
       "      <td>0.000000</td>\n",
       "      <td>24.1</td>\n",
       "      <td>4</td>\n",
       "      <td>Sunny</td>\n",
       "      <td>57</td>\n",
       "      <td>28</td>\n",
       "      <td>22</td>\n",
       "      <td>1018</td>\n",
       "      <td>0.0</td>\n",
       "      <td>ESE</td>\n",
       "      <td>13</td>\n",
       "      <td>NaN</td>\n",
       "    </tr>\n",
       "    <tr>\n",
       "      <th>1</th>\n",
       "      <td>1/2/2016</td>\n",
       "      <td>0.000000</td>\n",
       "      <td>25.0</td>\n",
       "      <td>4</td>\n",
       "      <td>Sunny</td>\n",
       "      <td>63</td>\n",
       "      <td>28</td>\n",
       "      <td>22</td>\n",
       "      <td>1017</td>\n",
       "      <td>0.0</td>\n",
       "      <td>SSE</td>\n",
       "      <td>13</td>\n",
       "      <td>NaN</td>\n",
       "    </tr>\n",
       "    <tr>\n",
       "      <th>2</th>\n",
       "      <td>1/3/2016</td>\n",
       "      <td>0.055556</td>\n",
       "      <td>21.0</td>\n",
       "      <td>32</td>\n",
       "      <td>Moderate or heavy rain shower</td>\n",
       "      <td>65</td>\n",
       "      <td>23</td>\n",
       "      <td>20</td>\n",
       "      <td>1017</td>\n",
       "      <td>7.9</td>\n",
       "      <td>WSW</td>\n",
       "      <td>22</td>\n",
       "      <td>NaN</td>\n",
       "    </tr>\n",
       "    <tr>\n",
       "      <th>3</th>\n",
       "      <td>1/4/2016</td>\n",
       "      <td>0.111111</td>\n",
       "      <td>19.6</td>\n",
       "      <td>27</td>\n",
       "      <td>Patchy rain possible</td>\n",
       "      <td>63</td>\n",
       "      <td>23</td>\n",
       "      <td>19</td>\n",
       "      <td>1018</td>\n",
       "      <td>0.0</td>\n",
       "      <td>WSW</td>\n",
       "      <td>14</td>\n",
       "      <td>NaN</td>\n",
       "    </tr>\n",
       "    <tr>\n",
       "      <th>4</th>\n",
       "      <td>1/5/2016</td>\n",
       "      <td>0.055556</td>\n",
       "      <td>19.6</td>\n",
       "      <td>19</td>\n",
       "      <td>Partly cloudy</td>\n",
       "      <td>55</td>\n",
       "      <td>23</td>\n",
       "      <td>20</td>\n",
       "      <td>1019</td>\n",
       "      <td>0.0</td>\n",
       "      <td>WSW</td>\n",
       "      <td>15</td>\n",
       "      <td>NaN</td>\n",
       "    </tr>\n",
       "  </tbody>\n",
       "</table>\n",
       "</div>"
      ],
      "text/plain": [
       "       Date  Failure.Rate  Temp  Cloud                           Disc  \\\n",
       "0  1/1/2016      0.000000  24.1      4                          Sunny   \n",
       "1  1/2/2016      0.000000  25.0      4                          Sunny   \n",
       "2  1/3/2016      0.055556  21.0     32  Moderate or heavy rain shower   \n",
       "3  1/4/2016      0.111111  19.6     27           Patchy rain possible   \n",
       "4  1/5/2016      0.055556  19.6     19                  Partly cloudy   \n",
       "\n",
       "   Humidity  MaxTemp  MinTemp  Pressure  Rain WindDir  WindSpeed Unnamed: 12  \n",
       "0        57       28       22      1018   0.0     ESE         13         NaN  \n",
       "1        63       28       22      1017   0.0     SSE         13         NaN  \n",
       "2        65       23       20      1017   7.9     WSW         22         NaN  \n",
       "3        63       23       19      1018   0.0     WSW         14         NaN  \n",
       "4        55       23       20      1019   0.0     WSW         15         NaN  "
      ]
     },
     "execution_count": 3,
     "metadata": {},
     "output_type": "execute_result"
    }
   ],
   "source": [
    "df.head()"
   ]
  },
  {
   "cell_type": "code",
   "execution_count": 4,
   "id": "812764b8",
   "metadata": {},
   "outputs": [],
   "source": [
    "NWD=df.WindSpeed"
   ]
  },
  {
   "cell_type": "code",
   "execution_count": 5,
   "id": "bb4d941a",
   "metadata": {},
   "outputs": [
    {
     "data": {
      "image/png": "[encoded data removed]",
      "text/plain": [
       "<Figure size 432x288 with 1 Axes>"
      ]
     },
     "metadata": {},
     "output_type": "display_data"
    }
   ],
   "source": [
    "hist = plt.hist(NWD, bins=30, density=True)"
   ]
  },
  {
   "cell_type": "code",
   "execution_count": 6,
   "id": "8ea1053a",
   "metadata": {},
   "outputs": [],
   "source": [
    "Wind =df.groupby(['WindSpeed'])['Failure.Rate'].agg('sum')"
   ]
  },
  {
   "cell_type": "code",
   "execution_count": 7,
   "id": "9f3f4e09",
   "metadata": {},
   "outputs": [],
   "source": [
    "FWD = []\n",
    "for T in Wind.index :\n",
    "    FWD.extend([T] *int(Wind[T]))\n",
    "FWD = np.asarray(FWD)"
   ]
  },
  {
   "cell_type": "code",
   "execution_count": 8,
   "id": "30f64b33",
   "metadata": {},
   "outputs": [
    {
     "data": {
      "image/png": "[encoded data removed]",
      "text/plain": [
       "<Figure size 432x288 with 1 Axes>"
      ]
     },
     "metadata": {},
     "output_type": "display_data"
    }
   ],
   "source": [
    "hist = plt.hist(FWD, bins=30, density=True)"
   ]
  },
  {
   "cell_type": "code",
   "execution_count": 9,
   "id": "26e2ddcd",
   "metadata": {},
   "outputs": [],
   "source": [
    "x_d = np.linspace(0, 40, 2000)\n"
   ]
  },
  {
   "cell_type": "code",
   "execution_count": 10,
   "id": "e640ce64",
   "metadata": {},
   "outputs": [
    {
     "name": "stderr",
     "output_type": "stream",
     "text": [
      "/tmp/ipykernel_20913/2270680790.py:5: FutureWarning: Support for multi-dimensional indexing (e.g. `obj[:, None]`) is deprecated and will be removed in a future version.  Convert to a numpy array before indexing instead.\n",
      "  Nkde.fit(NWD[:, None])\n"
     ]
    },
    {
     "data": {
      "text/plain": [
       "(0.0, 0.12)"
      ]
     },
     "execution_count": 10,
     "metadata": {},
     "output_type": "execute_result"
    },
    {
     "data": {
      "image/png": "[encoded data removed]",
      "text/plain": [
       "<Figure size 432x288 with 1 Axes>"
      ]
     },
     "metadata": {},
     "output_type": "display_data"
    }
   ],
   "source": [
    "from sklearn.neighbors import KernelDensity\n",
    "\n",
    "# instantiate and fit the KDE model\n",
    "Nkde = KernelDensity(bandwidth=1.0, kernel='gaussian')\n",
    "Nkde.fit(NWD[:, None])\n",
    "# score_samples returns the log of the probability density\n",
    "Nlogprob = Nkde.score_samples(x_d[:, None])\n",
    "\n",
    "Fkde = KernelDensity(bandwidth=1.0, kernel='gaussian')\n",
    "Fkde.fit(FWD[:, None])\n",
    "# score_samples returns the log of the probability density\n",
    "Flogprob = Fkde.score_samples(x_d[:, None])\n",
    "\n",
    "plt.fill_between(x_d, np.exp(Nlogprob), alpha=0.5,label='Normal Wind Speed')\n",
    "plt.fill_between(x_d, np.exp(Flogprob), alpha=0.5,label='Failure Wind Speed')\n",
    "plt.legend(loc='upper right')\n",
    "\n",
    "#plt.plot(NWD, np.full_like(NWD, -0.01), '|k', markeredgewidth=1)\n",
    "plt.ylim(0, 0.12)"
   ]
  },
  {
   "cell_type": "code",
   "execution_count": 11,
   "id": "cc1103d2",
   "metadata": {},
   "outputs": [
    {
     "data": {
      "text/plain": [
       "5.964006958452405"
      ]
     },
     "execution_count": 11,
     "metadata": {},
     "output_type": "execute_result"
    }
   ],
   "source": [
    "np.sum(np.abs((np.exp(Nlogprob)-np.exp(Flogprob))))"
   ]
  },
  {
   "cell_type": "code",
   "execution_count": null,
   "id": "3ed22127",
   "metadata": {},
   "outputs": [],
   "source": []
  }
 ],
 "metadata": {
  "kernelspec": {
   "display_name": "Python 3 (ipykernel)",
   "language": "python",
   "name": "python3"
  },
  "language_info": {
   "codemirror_mode": {
    "name": "ipython",
    "version": 3
   },
   "file_extension": ".py",
   "mimetype": "text/x-python",
   "name": "python",
   "nbconvert_exporter": "python",
   "pygments_lexer": "ipython3",
   "version": "3.10.4"
  }
 },
 "nbformat": 4,
 "nbformat_minor": 5
}
