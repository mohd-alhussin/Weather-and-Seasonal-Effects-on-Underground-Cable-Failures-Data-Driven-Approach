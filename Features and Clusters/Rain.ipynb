{
 "cells": [
  {
   "cell_type": "code",
   "execution_count": 1,
   "id": "b391aa1b",
   "metadata": {},
   "outputs": [],
   "source": [
    "%matplotlib inline\n",
    "import matplotlib.pyplot as plt\n",
    "import seaborn as sns; sns.set()\n",
    "import numpy as np\n",
    "import pandas as pd"
   ]
  },
  {
   "cell_type": "code",
   "execution_count": 2,
   "id": "b698fe44",
   "metadata": {},
   "outputs": [],
   "source": [
    "df = pd.read_csv(r'../Data/DailyFailureWeather_5_15.csv')"
   ]
  },
  {
   "cell_type": "code",
   "execution_count": 3,
   "id": "66bc5607",
   "metadata": {},
   "outputs": [
    {
     "data": {
      "text/html": [
       "<div>\n",
       "<style scoped>\n",
       "    .dataframe tbody tr th:only-of-type {\n",
       "        vertical-align: middle;\n",
       "    }\n",
       "\n",
       "    .dataframe tbody tr th {\n",
       "        vertical-align: top;\n",
       "    }\n",
       "\n",
       "    .dataframe thead th {\n",
       "        text-align: right;\n",
       "    }\n",
       "</style>\n",
       "<table border=\"1\" class=\"dataframe\">\n",
       "  <thead>\n",
       "    <tr style=\"text-align: right;\">\n",
       "      <th></th>\n",
       "      <th>Date</th>\n",
       "      <th>Failure.Rate</th>\n",
       "      <th>Temp</th>\n",
       "      <th>Cloud</th>\n",
       "      <th>Disc</th>\n",
       "      <th>Humidity</th>\n",
       "      <th>MaxTemp</th>\n",
       "      <th>MinTemp</th>\n",
       "      <th>Pressure</th>\n",
       "      <th>Rain</th>\n",
       "      <th>...</th>\n",
       "      <th>Rain-3</th>\n",
       "      <th>Rain-4</th>\n",
       "      <th>Rain-5</th>\n",
       "      <th>Rain2</th>\n",
       "      <th>Temp7</th>\n",
       "      <th>Humidity7</th>\n",
       "      <th>Rain7</th>\n",
       "      <th>Rain3</th>\n",
       "      <th>Temp2</th>\n",
       "      <th>Humidity2</th>\n",
       "    </tr>\n",
       "  </thead>\n",
       "  <tbody>\n",
       "    <tr>\n",
       "      <th>0</th>\n",
       "      <td>1/1/2016</td>\n",
       "      <td>0.000000</td>\n",
       "      <td>24.1</td>\n",
       "      <td>4</td>\n",
       "      <td>Sunny</td>\n",
       "      <td>57</td>\n",
       "      <td>28</td>\n",
       "      <td>22</td>\n",
       "      <td>1018</td>\n",
       "      <td>0.0</td>\n",
       "      <td>...</td>\n",
       "      <td>NaN</td>\n",
       "      <td>NaN</td>\n",
       "      <td>NaN</td>\n",
       "      <td>NaN</td>\n",
       "      <td>NaN</td>\n",
       "      <td>NaN</td>\n",
       "      <td>NaN</td>\n",
       "      <td>NaN</td>\n",
       "      <td>NaN</td>\n",
       "      <td>NaN</td>\n",
       "    </tr>\n",
       "    <tr>\n",
       "      <th>1</th>\n",
       "      <td>1/2/2016</td>\n",
       "      <td>0.000000</td>\n",
       "      <td>25.0</td>\n",
       "      <td>4</td>\n",
       "      <td>Sunny</td>\n",
       "      <td>63</td>\n",
       "      <td>28</td>\n",
       "      <td>22</td>\n",
       "      <td>1017</td>\n",
       "      <td>0.0</td>\n",
       "      <td>...</td>\n",
       "      <td>NaN</td>\n",
       "      <td>NaN</td>\n",
       "      <td>NaN</td>\n",
       "      <td>0.0</td>\n",
       "      <td>NaN</td>\n",
       "      <td>NaN</td>\n",
       "      <td>NaN</td>\n",
       "      <td>NaN</td>\n",
       "      <td>24.55</td>\n",
       "      <td>60.0</td>\n",
       "    </tr>\n",
       "    <tr>\n",
       "      <th>2</th>\n",
       "      <td>1/3/2016</td>\n",
       "      <td>0.055556</td>\n",
       "      <td>21.0</td>\n",
       "      <td>32</td>\n",
       "      <td>Moderate or heavy rain shower</td>\n",
       "      <td>65</td>\n",
       "      <td>23</td>\n",
       "      <td>20</td>\n",
       "      <td>1017</td>\n",
       "      <td>7.9</td>\n",
       "      <td>...</td>\n",
       "      <td>NaN</td>\n",
       "      <td>NaN</td>\n",
       "      <td>NaN</td>\n",
       "      <td>7.9</td>\n",
       "      <td>NaN</td>\n",
       "      <td>NaN</td>\n",
       "      <td>NaN</td>\n",
       "      <td>7.9</td>\n",
       "      <td>23.00</td>\n",
       "      <td>64.0</td>\n",
       "    </tr>\n",
       "    <tr>\n",
       "      <th>3</th>\n",
       "      <td>1/4/2016</td>\n",
       "      <td>0.111111</td>\n",
       "      <td>19.6</td>\n",
       "      <td>27</td>\n",
       "      <td>Patchy rain possible</td>\n",
       "      <td>63</td>\n",
       "      <td>23</td>\n",
       "      <td>19</td>\n",
       "      <td>1018</td>\n",
       "      <td>0.0</td>\n",
       "      <td>...</td>\n",
       "      <td>0.0</td>\n",
       "      <td>NaN</td>\n",
       "      <td>NaN</td>\n",
       "      <td>7.9</td>\n",
       "      <td>NaN</td>\n",
       "      <td>NaN</td>\n",
       "      <td>NaN</td>\n",
       "      <td>7.9</td>\n",
       "      <td>20.30</td>\n",
       "      <td>64.0</td>\n",
       "    </tr>\n",
       "    <tr>\n",
       "      <th>4</th>\n",
       "      <td>1/5/2016</td>\n",
       "      <td>0.055556</td>\n",
       "      <td>19.6</td>\n",
       "      <td>19</td>\n",
       "      <td>Partly cloudy</td>\n",
       "      <td>55</td>\n",
       "      <td>23</td>\n",
       "      <td>20</td>\n",
       "      <td>1019</td>\n",
       "      <td>0.0</td>\n",
       "      <td>...</td>\n",
       "      <td>0.0</td>\n",
       "      <td>0.0</td>\n",
       "      <td>NaN</td>\n",
       "      <td>0.0</td>\n",
       "      <td>NaN</td>\n",
       "      <td>NaN</td>\n",
       "      <td>NaN</td>\n",
       "      <td>7.9</td>\n",
       "      <td>19.60</td>\n",
       "      <td>59.0</td>\n",
       "    </tr>\n",
       "  </tbody>\n",
       "</table>\n",
       "<p>5 rows × 33 columns</p>\n",
       "</div>"
      ],
      "text/plain": [
       "       Date  Failure.Rate  Temp  Cloud                           Disc  \\\n",
       "0  1/1/2016      0.000000  24.1      4                          Sunny   \n",
       "1  1/2/2016      0.000000  25.0      4                          Sunny   \n",
       "2  1/3/2016      0.055556  21.0     32  Moderate or heavy rain shower   \n",
       "3  1/4/2016      0.111111  19.6     27           Patchy rain possible   \n",
       "4  1/5/2016      0.055556  19.6     19                  Partly cloudy   \n",
       "\n",
       "   Humidity  MaxTemp  MinTemp  Pressure  Rain  ... Rain-3  Rain-4  Rain-5  \\\n",
       "0        57       28       22      1018   0.0  ...    NaN     NaN     NaN   \n",
       "1        63       28       22      1017   0.0  ...    NaN     NaN     NaN   \n",
       "2        65       23       20      1017   7.9  ...    NaN     NaN     NaN   \n",
       "3        63       23       19      1018   0.0  ...    0.0     NaN     NaN   \n",
       "4        55       23       20      1019   0.0  ...    0.0     0.0     NaN   \n",
       "\n",
       "   Rain2  Temp7  Humidity7  Rain7  Rain3  Temp2  Humidity2  \n",
       "0    NaN    NaN        NaN    NaN    NaN    NaN        NaN  \n",
       "1    0.0    NaN        NaN    NaN    NaN  24.55       60.0  \n",
       "2    7.9    NaN        NaN    NaN    7.9  23.00       64.0  \n",
       "3    7.9    NaN        NaN    NaN    7.9  20.30       64.0  \n",
       "4    0.0    NaN        NaN    NaN    7.9  19.60       59.0  \n",
       "\n",
       "[5 rows x 33 columns]"
      ]
     },
     "execution_count": 3,
     "metadata": {},
     "output_type": "execute_result"
    }
   ],
   "source": [
    "df.head()"
   ]
  },
  {
   "cell_type": "code",
   "execution_count": 4,
   "id": "63ec853b",
   "metadata": {},
   "outputs": [],
   "source": [
    "dfR=df[df['Rain']>0]"
   ]
  },
  {
   "cell_type": "code",
   "execution_count": 5,
   "id": "812764b8",
   "metadata": {},
   "outputs": [],
   "source": [
    "NWD=dfR.Rain"
   ]
  },
  {
   "cell_type": "code",
   "execution_count": 6,
   "id": "bb4d941a",
   "metadata": {},
   "outputs": [
    {
     "data": {
      "image/png": "[encoded data removed]",
      "text/plain": [
       "<Figure size 432x288 with 1 Axes>"
      ]
     },
     "metadata": {},
     "output_type": "display_data"
    }
   ],
   "source": [
    "hist = plt.hist(NWD, density=True)"
   ]
  },
  {
   "cell_type": "code",
   "execution_count": 7,
   "id": "8ea1053a",
   "metadata": {},
   "outputs": [],
   "source": [
    "Rain =dfR.groupby(['Rain'])['Failure.Rate'].agg('sum')"
   ]
  },
  {
   "cell_type": "code",
   "execution_count": 8,
   "id": "9f3f4e09",
   "metadata": {},
   "outputs": [],
   "source": [
    "FWD = []\n",
    "for T in Rain.index :\n",
    "    FWD.extend([T] *int(Rain[T]))\n",
    "FWD = np.asarray(FWD)"
   ]
  },
  {
   "cell_type": "code",
   "execution_count": 9,
   "id": "30f64b33",
   "metadata": {},
   "outputs": [
    {
     "data": {
      "image/png": "[encoded data removed]",
      "text/plain": [
       "<Figure size 432x288 with 1 Axes>"
      ]
     },
     "metadata": {},
     "output_type": "display_data"
    }
   ],
   "source": [
    "hist = plt.hist(FWD, density=True)"
   ]
  },
  {
   "cell_type": "code",
   "execution_count": 10,
   "id": "26e2ddcd",
   "metadata": {},
   "outputs": [],
   "source": [
    "x_d = np.linspace(0, 40, 10000)\n"
   ]
  },
  {
   "cell_type": "code",
   "execution_count": 11,
   "id": "e640ce64",
   "metadata": {},
   "outputs": [
    {
     "name": "stderr",
     "output_type": "stream",
     "text": [
      "/tmp/ipykernel_14140/1067647443.py:5: FutureWarning: Support for multi-dimensional indexing (e.g. `obj[:, None]`) is deprecated and will be removed in a future version.  Convert to a numpy array before indexing instead.\n",
      "  Nkde.fit(NWD[:, None])\n"
     ]
    },
    {
     "data": {
      "text/plain": [
       "0.4358863291600443"
      ]
     },
     "execution_count": 11,
     "metadata": {},
     "output_type": "execute_result"
    },
    {
     "data": {
      "image/png": "[encoded data removed]",
      "text/plain": [
       "<Figure size 432x288 with 1 Axes>"
      ]
     },
     "metadata": {},
     "output_type": "display_data"
    }
   ],
   "source": [
    "from sklearn.neighbors import KernelDensity\n",
    "\n",
    "# instantiate and fit the KDE model\n",
    "Nkde = KernelDensity(bandwidth=1.0, kernel='gaussian')\n",
    "Nkde.fit(NWD[:, None])\n",
    "# score_samples returns the log of the probability density\n",
    "Nlogprob = Nkde.score_samples(x_d[:, None])\n",
    "\n",
    "Fkde = KernelDensity(bandwidth=1.0, kernel='gaussian')\n",
    "Fkde.fit(FWD[:, None])\n",
    "# score_samples returns the log of the probability density\n",
    "Flogprob = Fkde.score_samples(x_d[:, None])\n",
    "\n",
    "plt.fill_between(x_d, np.exp(Nlogprob), alpha=0.5,label='Normal Rain Same Day')\n",
    "plt.fill_between(x_d, np.exp(Flogprob), alpha=0.5,label='Failure Rain Same Day')\n",
    "plt.legend(loc='upper left')\n",
    "\n",
    "#plt.plot(NWD, np.full_like(NWD, -0.01), '|k', markeredgewidth=1)\n",
    "plt.ylim(0, 0.2)\n",
    "np.sum(np.abs((np.exp(Nlogprob)-np.exp(Flogprob))))*(x_d[1]-x_d[0])"
   ]
  },
  {
   "cell_type": "code",
   "execution_count": 12,
   "id": "30f75961",
   "metadata": {},
   "outputs": [
    {
     "name": "stderr",
     "output_type": "stream",
     "text": [
      "/tmp/ipykernel_14140/2547434703.py:16: FutureWarning: Support for multi-dimensional indexing (e.g. `obj[:, None]`) is deprecated and will be removed in a future version.  Convert to a numpy array before indexing instead.\n",
      "  Nkde.fit(NWD[:, None])\n"
     ]
    },
    {
     "data": {
      "text/plain": [
       "0.502552378910337"
      ]
     },
     "execution_count": 12,
     "metadata": {},
     "output_type": "execute_result"
    },
    {
     "data": {
      "image/png": "[encoded data removed]",
      "text/plain": [
       "<Figure size 432x288 with 1 Axes>"
      ]
     },
     "metadata": {},
     "output_type": "display_data"
    }
   ],
   "source": [
    "##############\n",
    "### 2 days ###\n",
    "##############\n",
    "dfR=df[df['Rain2']>0]\n",
    "NWD=dfR['Rain2'].dropna()\n",
    "Rain =dfR.groupby(['Rain2'])['Failure.Rate'].agg('sum')\n",
    "FWD = []\n",
    "for T in Rain.index :\n",
    "    FWD.extend([T] *int(Rain[T]))\n",
    "FWD = np.asarray(FWD)\n",
    "x_d = np.linspace(0, 50, 10000)\n",
    "from sklearn.neighbors import KernelDensity\n",
    "\n",
    "# instantiate and fit the KDE model\n",
    "Nkde = KernelDensity(bandwidth=1.0, kernel='gaussian')\n",
    "Nkde.fit(NWD[:, None])\n",
    "# score_samples returns the log of the probability density\n",
    "Nlogprob = Nkde.score_samples(x_d[:, None])\n",
    "\n",
    "Fkde = KernelDensity(bandwidth=1.0, kernel='gaussian')\n",
    "Fkde.fit(FWD[:, None])\n",
    "# score_samples returns the log of the probability density\n",
    "Flogprob = Fkde.score_samples(x_d[:, None])\n",
    "\n",
    "plt.fill_between(x_d, np.exp(Nlogprob), alpha=0.5,label='Normal Rain 2 days')\n",
    "plt.fill_between(x_d, np.exp(Flogprob), alpha=0.5,label='Failure Rain 2 days')\n",
    "plt.legend(loc='upper left')\n",
    "\n",
    "#plt.plot(NWD, np.full_like(NWD, -0.01), '|k', markeredgewidth=1)\n",
    "plt.ylim(0, 0.25)\n",
    "np.sum(np.abs((np.exp(Nlogprob)-np.exp(Flogprob))))*(x_d[1]-x_d[0])"
   ]
  },
  {
   "cell_type": "code",
   "execution_count": 13,
   "id": "c559af57",
   "metadata": {},
   "outputs": [
    {
     "data": {
      "text/plain": [
       "11"
      ]
     },
     "execution_count": 13,
     "metadata": {},
     "output_type": "execute_result"
    }
   ],
   "source": [
    "FWD.shape[0]"
   ]
  },
  {
   "cell_type": "code",
   "execution_count": 14,
   "id": "6cf8bc2e",
   "metadata": {},
   "outputs": [
    {
     "data": {
      "text/plain": [
       "<matplotlib.collections.PolyCollection at 0x7fd9c778fc10>"
      ]
     },
     "execution_count": 14,
     "metadata": {},
     "output_type": "execute_result"
    },
    {
     "data": {
      "image/png": "[encoded data removed]",
      "text/plain": [
       "<Figure size 432x288 with 1 Axes>"
      ]
     },
     "metadata": {},
     "output_type": "display_data"
    }
   ],
   "source": [
    "plt.fill_between(x_d, FWD.shape[0]*np.exp(Flogprob)/(NWD.shape[0]*np.exp(Nlogprob)), alpha=0.5,label='Failure Rain 2 days')"
   ]
  },
  {
   "cell_type": "code",
   "execution_count": 15,
   "id": "a3de887b",
   "metadata": {},
   "outputs": [],
   "source": [
    "ODDS=np.exp(Flogprob)/np.exp(Nlogprob)"
   ]
  },
  {
   "cell_type": "code",
   "execution_count": null,
   "id": "5eb87d7d",
   "metadata": {},
   "outputs": [],
   "source": []
  },
  {
   "cell_type": "code",
   "execution_count": 16,
   "id": "4416b5b8",
   "metadata": {},
   "outputs": [
    {
     "name": "stderr",
     "output_type": "stream",
     "text": [
      "/tmp/ipykernel_14140/213753990.py:16: FutureWarning: Support for multi-dimensional indexing (e.g. `obj[:, None]`) is deprecated and will be removed in a future version.  Convert to a numpy array before indexing instead.\n",
      "  Nkde.fit(NWD[:, None])\n"
     ]
    },
    {
     "data": {
      "text/plain": [
       "0.5208789453387849"
      ]
     },
     "execution_count": 16,
     "metadata": {},
     "output_type": "execute_result"
    },
    {
     "data": {
      "image/png": "[encoded data removed]",
      "text/plain": [
       "<Figure size 432x288 with 1 Axes>"
      ]
     },
     "metadata": {},
     "output_type": "display_data"
    }
   ],
   "source": [
    "##############\n",
    "### 3 days ###\n",
    "##############\n",
    "dfR=df[df['Rain3']>0]\n",
    "NWD=dfR['Rain3'].dropna()\n",
    "Rain =dfR.groupby(['Rain3'])['Failure.Rate'].agg('sum')\n",
    "FWD = []\n",
    "for T in Rain.index :\n",
    "    FWD.extend([T] *int(Rain[T]))\n",
    "FWD = np.asarray(FWD)\n",
    "x_d = np.linspace(0, 80, 10000)\n",
    "from sklearn.neighbors import KernelDensity\n",
    "\n",
    "# instantiate and fit the KDE model\n",
    "Nkde = KernelDensity(bandwidth=1.0, kernel='gaussian')\n",
    "Nkde.fit(NWD[:, None])\n",
    "# score_samples returns the log of the probability density\n",
    "Nlogprob = Nkde.score_samples(x_d[:, None])\n",
    "\n",
    "Fkde = KernelDensity(bandwidth=1.0, kernel='gaussian')\n",
    "Fkde.fit(FWD[:, None])\n",
    "# score_samples returns the log of the probability density\n",
    "Flogprob = Fkde.score_samples(x_d[:, None])\n",
    "\n",
    "plt.fill_between(x_d, np.exp(Nlogprob), alpha=0.5,label='Normal Rain 2 days')\n",
    "plt.fill_between(x_d, np.exp(Flogprob), alpha=0.5,label='Failure Rain 2 days')\n",
    "plt.legend(loc='upper left')\n",
    "\n",
    "#plt.plot(NWD, np.full_like(NWD, -0.01), '|k', markeredgewidth=1)\n",
    "plt.ylim(0, 0.25)\n",
    "np.sum(np.abs((np.exp(Nlogprob)-np.exp(Flogprob))))*(x_d[1]-x_d[0])"
   ]
  },
  {
   "cell_type": "code",
   "execution_count": 17,
   "id": "3ed22127",
   "metadata": {},
   "outputs": [
    {
     "name": "stderr",
     "output_type": "stream",
     "text": [
      "/tmp/ipykernel_14140/1669391915.py:16: FutureWarning: Support for multi-dimensional indexing (e.g. `obj[:, None]`) is deprecated and will be removed in a future version.  Convert to a numpy array before indexing instead.\n",
      "  Nkde.fit(NWD[:, None])\n"
     ]
    },
    {
     "data": {
      "text/plain": [
       "0.5467278270653956"
      ]
     },
     "execution_count": 17,
     "metadata": {},
     "output_type": "execute_result"
    },
    {
     "data": {
      "image/png": "[encoded data removed]",
      "text/plain": [
       "<Figure size 432x288 with 1 Axes>"
      ]
     },
     "metadata": {},
     "output_type": "display_data"
    }
   ],
   "source": [
    "##############\n",
    "### 5 days ###\n",
    "##############\n",
    "dfR=df[df['Rain5']>0]\n",
    "NWD=dfR.Rain5.dropna()\n",
    "Rain =dfR.groupby(['Rain5'])['Failure.Rate'].agg('sum')\n",
    "FWD = []\n",
    "for T in Rain.index :\n",
    "    FWD.extend([T] *int(Rain[T]))\n",
    "FWD = np.asarray(FWD)\n",
    "x_d = np.linspace(0, 80, 10000)\n",
    "from sklearn.neighbors import KernelDensity\n",
    "\n",
    "# instantiate and fit the KDE model\n",
    "Nkde = KernelDensity(bandwidth=1.0, kernel='gaussian')\n",
    "Nkde.fit(NWD[:, None])\n",
    "# score_samples returns the log of the probability density\n",
    "Nlogprob = Nkde.score_samples(x_d[:, None])\n",
    "\n",
    "Fkde = KernelDensity(bandwidth=1.0, kernel='gaussian')\n",
    "Fkde.fit(FWD[:, None])\n",
    "# score_samples returns the log of the probability density\n",
    "Flogprob = Fkde.score_samples(x_d[:, None])\n",
    "\n",
    "plt.fill_between(x_d, np.exp(Nlogprob), alpha=0.5,label='Normal Rain 5 days')\n",
    "plt.fill_between(x_d, np.exp(Flogprob), alpha=0.5,label='Failure Rain 5 days')\n",
    "plt.legend(loc='upper left')\n",
    "\n",
    "#plt.plot(NWD, np.full_like(NWD, -0.01), '|k', markeredgewidth=1)\n",
    "plt.ylim(0, 0.2)\n",
    "np.sum(np.abs((np.exp(Nlogprob)-np.exp(Flogprob))))*(x_d[1]-x_d[0])"
   ]
  },
  {
   "cell_type": "code",
   "execution_count": 18,
   "id": "93935166",
   "metadata": {},
   "outputs": [
    {
     "name": "stderr",
     "output_type": "stream",
     "text": [
      "/tmp/ipykernel_14140/1148498440.py:16: FutureWarning: Support for multi-dimensional indexing (e.g. `obj[:, None]`) is deprecated and will be removed in a future version.  Convert to a numpy array before indexing instead.\n",
      "  Nkde.fit(NWD[:, None])\n"
     ]
    },
    {
     "data": {
      "text/plain": [
       "0.21187009079623778"
      ]
     },
     "execution_count": 18,
     "metadata": {},
     "output_type": "execute_result"
    },
    {
     "data": {
      "image/png": "[encoded data removed]",
      "text/plain": [
       "<Figure size 432x288 with 1 Axes>"
      ]
     },
     "metadata": {},
     "output_type": "display_data"
    }
   ],
   "source": [
    "##############\n",
    "### 10 days ###\n",
    "##############\n",
    "dfR=df[df['Rain10']>0]\n",
    "NWD=df.Rain10.dropna()\n",
    "Rain =df.groupby(['Rain10'])['Failure.Rate'].agg('sum')\n",
    "FWD = []\n",
    "for T in Rain.index :\n",
    "    FWD.extend([T] *int(Rain[T]))\n",
    "FWD = np.asarray(FWD)\n",
    "x_d = np.linspace(0, 80, 10000)\n",
    "from sklearn.neighbors import KernelDensity\n",
    "\n",
    "# instantiate and fit the KDE model\n",
    "Nkde = KernelDensity(bandwidth=1.0, kernel='gaussian')\n",
    "Nkde.fit(NWD[:, None])\n",
    "# score_samples returns the log of the probability density\n",
    "Nlogprob = Nkde.score_samples(x_d[:, None])\n",
    "\n",
    "Fkde = KernelDensity(bandwidth=1.0, kernel='gaussian')\n",
    "Fkde.fit(FWD[:, None])\n",
    "# score_samples returns the log of the probability density\n",
    "Flogprob = Fkde.score_samples(x_d[:, None])\n",
    "\n",
    "plt.fill_between(x_d, np.exp(Nlogprob), alpha=0.5,label='Normal Rain 10 days')\n",
    "plt.fill_between(x_d, np.exp(Flogprob), alpha=0.5,label='Failure Rain 10 days')\n",
    "plt.legend(loc='upper left')\n",
    "\n",
    "#plt.plot(NWD, np.full_like(NWD, -0.01), '|k', markeredgewidth=1)\n",
    "plt.ylim(0, 0.25)\n",
    "np.sum(np.abs((np.exp(Nlogprob)-np.exp(Flogprob))))*(x_d[1]-x_d[0])"
   ]
  },
  {
   "cell_type": "code",
   "execution_count": 19,
   "id": "bf5eff4c",
   "metadata": {},
   "outputs": [
    {
     "data": {
      "text/plain": [
       "(10000,)"
      ]
     },
     "execution_count": 19,
     "metadata": {},
     "output_type": "execute_result"
    }
   ],
   "source": [
    "Nlogprob.shape"
   ]
  },
  {
   "cell_type": "code",
   "execution_count": 20,
   "id": "c55f1e89",
   "metadata": {},
   "outputs": [
    {
     "name": "stderr",
     "output_type": "stream",
     "text": [
      "/tmp/ipykernel_14140/1171768959.py:16: FutureWarning: Support for multi-dimensional indexing (e.g. `obj[:, None]`) is deprecated and will be removed in a future version.  Convert to a numpy array before indexing instead.\n",
      "  Nkde.fit(NWD[:, None])\n"
     ]
    },
    {
     "data": {
      "text/plain": [
       "0.536605081315249"
      ]
     },
     "execution_count": 20,
     "metadata": {},
     "output_type": "execute_result"
    },
    {
     "data": {
      "image/png": "[encoded data removed]",
      "text/plain": [
       "<Figure size 432x288 with 1 Axes>"
      ]
     },
     "metadata": {},
     "output_type": "display_data"
    }
   ],
   "source": [
    "##############\n",
    "### 15 days ###\n",
    "##############\n",
    "dfR=df[df['Rain15']>0]\n",
    "NWD=dfR.Rain15.dropna()\n",
    "Rain =dfR.groupby(['Rain15'])['Failure.Rate'].agg('sum')\n",
    "FWD = []\n",
    "for T in Rain.index :\n",
    "    FWD.extend([T] *int(Rain[T]))\n",
    "FWD = np.asarray(FWD)\n",
    "x_d = np.linspace(0, 80, 10000)\n",
    "from sklearn.neighbors import KernelDensity\n",
    "\n",
    "# instantiate and fit the KDE model\n",
    "Nkde = KernelDensity(bandwidth=1.0, kernel='gaussian')\n",
    "Nkde.fit(NWD[:, None])\n",
    "# score_samples returns the log of the probability density\n",
    "Nlogprob = Nkde.score_samples(x_d[:, None])\n",
    "\n",
    "Fkde = KernelDensity(bandwidth=1.0, kernel='gaussian')\n",
    "Fkde.fit(FWD[:, None])\n",
    "# score_samples returns the log of the probability density\n",
    "Flogprob = Fkde.score_samples(x_d[:, None])\n",
    "\n",
    "plt.fill_between(x_d, np.exp(Nlogprob), alpha=0.5,label='Normal Rain 15 days')\n",
    "plt.fill_between(x_d, np.exp(Flogprob), alpha=0.5,label='Failure Rain 15 days')\n",
    "plt.legend(loc='upper left')\n",
    "\n",
    "#plt.plot(NWD, np.full_like(NWD, -0.01), '|k', markeredgewidth=1)\n",
    "plt.ylim(0, 0.25)\n",
    "np.sum(np.abs((np.exp(Nlogprob)-np.exp(Flogprob))))*(x_d[1]-x_d[0])"
   ]
  },
  {
   "cell_type": "code",
   "execution_count": null,
   "id": "9250ea16",
   "metadata": {},
   "outputs": [],
   "source": []
  }
 ],
 "metadata": {
  "kernelspec": {
   "display_name": "Python 3 (ipykernel)",
   "language": "python",
   "name": "python3"
  },
  "language_info": {
   "codemirror_mode": {
    "name": "ipython",
    "version": 3
   },
   "file_extension": ".py",
   "mimetype": "text/x-python",
   "name": "python",
   "nbconvert_exporter": "python",
   "pygments_lexer": "ipython3",
   "version": "3.10.4"
  }
 },
 "nbformat": 4,
 "nbformat_minor": 5
}
